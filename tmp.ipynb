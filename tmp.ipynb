{
 "cells": [
  {
   "cell_type": "code",
   "execution_count": null,
   "metadata": {},
   "outputs": [],
   "source": [
    "import numpy as np\n",
    "import pandas as pd\n",
    "from sklearn.cluster import KMeans\n",
    "from sklearn.ensemble import RandomForestClassifier\n",
    "from sklearn.metrics import classification_report, confusion_matrix\n",
    "from sklearn.model_selection import train_test_split\n",
    "import joblib\n"
   ]
  },
  {
   "cell_type": "code",
   "execution_count": null,
   "metadata": {},
   "outputs": [],
   "source": [
    "# Generar datos ficticios de clientes\n",
    "np.random.seed(0)\n",
    "n_samples = 1000000"
   ]
  },
  {
   "cell_type": "code",
   "execution_count": null,
   "metadata": {},
   "outputs": [],
   "source": [
    "# Variables ficticias\n",
    "edad = np.random.randint(18, 70, n_samples)\n",
    "ingresos = np.random.uniform(10000, 1000000, n_samples)\n",
    "deuda_crediticia = np.random.uniform(0, 100000, n_samples)\n",
    "historial_pago = np.random.randint(0, 3, n_samples)\n",
    "nacionalidad = np.random.choice(['Nacional', 'Extranjero'], size=n_samples)\n"
   ]
  },
  {
   "cell_type": "code",
   "execution_count": null,
   "metadata": {},
   "outputs": [],
   "source": [
    "# Crear un DataFrame\n",
    "data = pd.DataFrame({\n",
    "    'Edad': edad,\n",
    "    'Ingresos': ingresos,\n",
    "    'Deuda_Crediticia': deuda_crediticia,\n",
    "    'Historial_Pago': historial_pago,\n",
    "    'Nacionalidad': nacionalidad\n",
    "})"
   ]
  },
  {
   "cell_type": "code",
   "execution_count": null,
   "metadata": {},
   "outputs": [],
   "source": [
    "# Seleccionar características relevantes\n",
    "X = data[['Edad', 'Ingresos', 'Deuda_Crediticia', 'Historial_Pago']]\n"
   ]
  },
  {
   "cell_type": "code",
   "execution_count": null,
   "metadata": {},
   "outputs": [],
   "source": [
    "# Aplicar el algoritmo K-Means para segmentar a los clientes\n",
    "n_clusters = 3\n",
    "kmeans = KMeans(n_clusters=n_clusters, random_state=0)\n",
    "data['Segmento'] = kmeans.fit_predict(X)\n",
    "#0: Bajo, 1:Medio, 2:Alto\n"
   ]
  },
  {
   "cell_type": "code",
   "execution_count": null,
   "metadata": {},
   "outputs": [],
   "source": [
    "# Dividir los datos en conjuntos de entrenamiento y prueba\n",
    "X = data[['Edad', 'Ingresos', 'Deuda_Crediticia', 'Historial_Pago']]\n",
    "y = data['Segmento']\n",
    "X_train, X_test, y_train, y_test = train_test_split(X, y, test_size=0.2, random_state=0)\n"
   ]
  },
  {
   "cell_type": "code",
   "execution_count": null,
   "metadata": {},
   "outputs": [],
   "source": [
    "# Crear y entrenar un modelo de Random Forest para predecir el riesgo\n",
    "model = RandomForestClassifier(n_estimators=100, random_state=0)\n",
    "model.fit(X_train, y_train)"
   ]
  },
  {
   "cell_type": "code",
   "execution_count": null,
   "metadata": {},
   "outputs": [],
   "source": [
    "nombre_del_archivo = 'risk.pkl'\n",
    "joblib.dump(model, nombre_del_archivo)\n",
    "\n",
    "print(\"Modelo guardado con éxito.\")"
   ]
  },
  {
   "cell_type": "code",
   "execution_count": null,
   "metadata": {},
   "outputs": [],
   "source": [
    "# Realizar predicciones en el conjunto de prueba\n",
    "y_pred = model.predict(X_test)"
   ]
  },
  {
   "cell_type": "code",
   "execution_count": null,
   "metadata": {},
   "outputs": [],
   "source": [
    "# Evaluar el modelo\n",
    "print(\"Matriz de confusión:\")\n",
    "print(confusion_matrix(y_test, y_pred))"
   ]
  },
  {
   "cell_type": "code",
   "execution_count": null,
   "metadata": {},
   "outputs": [],
   "source": [
    "print(\"\\nInforme de clasificación:\")\n",
    "print(classification_report(y_test, y_pred, target_names=['Bajo', 'Medio', 'Alto']))\n"
   ]
  }
 ],
 "metadata": {
  "language_info": {
   "name": "python"
  }
 },
 "nbformat": 4,
 "nbformat_minor": 2
}
