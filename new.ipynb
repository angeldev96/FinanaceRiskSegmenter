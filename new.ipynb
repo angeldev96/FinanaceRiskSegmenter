{
 "cells": [
  {
   "cell_type": "code",
   "execution_count": 1,
   "metadata": {},
   "outputs": [
    {
     "name": "stdout",
     "output_type": "stream",
     "text": [
      "[2 2]\n"
     ]
    }
   ],
   "source": [
    "import joblib\n",
    "import pandas as pd\n",
    "\n",
    "# Cargar el modelo guardado\n",
    "nombre_del_archivo = 'risk.pkl'\n",
    "modelo_cargado = joblib.load(nombre_del_archivo)\n",
    "\n",
    "# Preparar nuevos datos para la predicción\n",
    "# Aquí debes asegurarte de que los datos estén en el mismo formato que usaste para entrenar el modelo\n",
    "# Por ejemplo:\n",
    "datos_nuevos = pd.DataFrame({\n",
    "    'Edad': [30, 45],\n",
    "    'Ingresos': [50000, 75000],\n",
    "    'Deuda_Crediticia': [10000, 15000],\n",
    "    'Historial_Pago': [1, 2]\n",
    "})\n",
    "\n",
    "# Realizar predicciones con el modelo cargado\n",
    "predicciones = modelo_cargado.predict(datos_nuevos)\n",
    "\n",
    "# Imprimir las predicciones\n",
    "print(predicciones)\n"
   ]
  }
 ],
 "metadata": {
  "kernelspec": {
   "display_name": "ai_env",
   "language": "python",
   "name": "python3"
  },
  "language_info": {
   "codemirror_mode": {
    "name": "ipython",
    "version": 3
   },
   "file_extension": ".py",
   "mimetype": "text/x-python",
   "name": "python",
   "nbconvert_exporter": "python",
   "pygments_lexer": "ipython3",
   "version": "3.12.0"
  }
 },
 "nbformat": 4,
 "nbformat_minor": 2
}
