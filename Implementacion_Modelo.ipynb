{
 "cells": [
  {
   "cell_type": "code",
   "execution_count": 5,
   "id": "1a830059",
   "metadata": {},
   "outputs": [
    {
     "name": "stderr",
     "output_type": "stream",
     "text": [
      "C:\\Users\\pedro\\anaconda3\\Lib\\site-packages\\sklearn\\cluster\\_kmeans.py:1412: FutureWarning: The default value of `n_init` will change from 10 to 'auto' in 1.4. Set the value of `n_init` explicitly to suppress the warning\n",
      "  super()._check_params_vs_input(X, default_n_init=10)\n"
     ]
    },
    {
     "name": "stdout",
     "output_type": "stream",
     "text": [
      "Matriz de confusión:\n",
      "[[66521     1     0]\n",
      " [    1 67187     0]\n",
      " [    0     0 66290]]\n",
      "\n",
      "Informe de clasificación:\n",
      "              precision    recall  f1-score   support\n",
      "\n",
      "        Alto       1.00      1.00      1.00     66522\n",
      "       Medio       1.00      1.00      1.00     67188\n",
      "        Bajo       1.00      1.00      1.00     66290\n",
      "\n",
      "    accuracy                           1.00    200000\n",
      "   macro avg       1.00      1.00      1.00    200000\n",
      "weighted avg       1.00      1.00      1.00    200000\n",
      "\n"
     ]
    }
   ],
   "source": [
    "import numpy as np\n",
    "import pandas as pd\n",
    "from sklearn.cluster import KMeans\n",
    "from sklearn.ensemble import RandomForestClassifier\n",
    "from sklearn.metrics import classification_report, confusion_matrix\n",
    "from sklearn.model_selection import train_test_split\n",
    "\n",
    "# Generar datos ficticios de clientes\n",
    "np.random.seed(0)\n",
    "n_samples = 1000000\n",
    "\n",
    "# Variables ficticias\n",
    "edad = np.random.randint(18, 70, n_samples)\n",
    "ingresos = np.random.uniform(10000, 1000000, n_samples)\n",
    "deuda_crediticia = np.random.uniform(0, 100000, n_samples)\n",
    "historial_pago = np.random.randint(0, 3, n_samples)\n",
    "nacionalidad = np.random.choice(['Nacional', 'Extranjero'], size=n_samples)\n",
    "\n",
    "# Crear un DataFrame\n",
    "data = pd.DataFrame({\n",
    "    'Edad': edad,\n",
    "    'Ingresos': ingresos,\n",
    "    'Deuda_Crediticia': deuda_crediticia,\n",
    "    'Historial_Pago': historial_pago,\n",
    "    'Nacionalidad': nacionalidad\n",
    "})\n",
    "\n",
    "# Seleccionar características relevantes\n",
    "X = data[['Edad', 'Ingresos', 'Deuda_Crediticia', 'Historial_Pago']]\n",
    "\n",
    "# Aplicar el algoritmo K-Means para segmentar a los clientes\n",
    "n_clusters = 3\n",
    "kmeans = KMeans(n_clusters=n_clusters, random_state=0)\n",
    "data['Segmento'] = kmeans.fit_predict(X)\n",
    "#0: Bajo, 1:Medio, 2:Alto\n",
    "\n",
    "# Dividir los datos en conjuntos de entrenamiento y prueba\n",
    "X = data[['Edad', 'Ingresos', 'Deuda_Crediticia', 'Historial_Pago']]\n",
    "y = data['Segmento']\n",
    "X_train, X_test, y_train, y_test = train_test_split(X, y, test_size=0.2, random_state=0)\n",
    "\n",
    "# Crear y entrenar un modelo de Random Forest para predecir el riesgo\n",
    "model = RandomForestClassifier(n_estimators=100, random_state=0)\n",
    "model.fit(X_train, y_train)\n",
    "\n",
    "# Realizar predicciones en el conjunto de prueba\n",
    "y_pred = model.predict(X_test)\n",
    "\n",
    "# Evaluar el modelo\n",
    "print(\"Matriz de confusión:\")\n",
    "print(confusion_matrix(y_test, y_pred))\n",
    "\n",
    "print(\"\\nInforme de clasificación:\")\n",
    "print(classification_report(y_test, y_pred, target_names=['Bajo', 'Medio', 'Alto']))\n"
   ]
  }
 ],
 "metadata": {
  "kernelspec": {
   "display_name": "Python 3 (ipykernel)",
   "language": "python",
   "name": "python3"
  },
  "language_info": {
   "codemirror_mode": {
    "name": "ipython",
    "version": 3
   },
   "file_extension": ".py",
   "mimetype": "text/x-python",
   "name": "python",
   "nbconvert_exporter": "python",
   "pygments_lexer": "ipython3",
   "version": "3.11.5"
  }
 },
 "nbformat": 4,
 "nbformat_minor": 5
}
